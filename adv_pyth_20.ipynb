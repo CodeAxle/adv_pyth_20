{
 "cells": [
  {
   "cell_type": "markdown",
   "id": "db7e3d83",
   "metadata": {},
   "source": [
    "# 1."
   ]
  },
  {
   "cell_type": "code",
   "execution_count": 1,
   "id": "418b4957",
   "metadata": {},
   "outputs": [],
   "source": [
    "# a) Float:\n",
    "\n",
    "# Benefits:\n",
    "\n",
    "# 1. Efficiency: float is a built-in numeric type optimized for speed and memory usage. It's generally faster for basic \n",
    "#     arithmetic operations compared to Decimal.\n",
    "# 2. Wide Range: float can represent a very large range of real numbers, including positive/negative infinity and Not a \n",
    "#     Number (NaN).\n",
    "# 3. Hardware Support: Many hardware architectures have built-in floating-point units (FPUs) that accelerate operations on \n",
    "#     float numbers.\n",
    "\n",
    "# Drawbacks:\n",
    "\n",
    "# 1. Limited Precision: float uses binary floating-point representation, which can lead to rounding errors and unexpected \n",
    "#     results for precise calculations, especially with financial data or repeated calculations.\n",
    "# 2. Inaccuracy: Due to the binary representation, some decimal numbers cannot be accurately represented by a float. \n",
    "#     This can cause issues when working with exact values.\n",
    "\n",
    "\n",
    "# b) Decimal:\n",
    "\n",
    "# Benefits:\n",
    "\n",
    "# 1. Arbitrary Precision: Decimal allows you to specify the desired precision for calculations, ensuring accurate results even \n",
    "#     for complex financial calculations or repeated operations.\n",
    "# 2. Exact Representation: Decimal stores numbers as fixed-point decimals, providing a more accurate representation of decimal\n",
    "#     numbers compared to float. This is crucial for financial applications or scientific calculations requiring high precision.\n",
    "\n",
    "# Drawbacks:\n",
    "\n",
    "# 1. Slower Performance: Decimal operations are generally slower than float due to the overhead of managing precision.\n",
    "# 2. Limited Range: Decimal has a smaller representable range compared to float. However, the range is typically sufficient \n",
    "#     for most financial applications.\n",
    "# 3. Verbosity: Working with Decimal can involve more verbose code compared to float due to the need to specify precision and \n",
    "#     handle potential errors during calculations."
   ]
  },
  {
   "cell_type": "markdown",
   "id": "221b784b",
   "metadata": {},
   "source": [
    "# 2."
   ]
  },
  {
   "cell_type": "code",
   "execution_count": 2,
   "id": "ab8e5baf",
   "metadata": {},
   "outputs": [
    {
     "name": "stdout",
     "output_type": "stream",
     "text": [
      "False\n",
      "True\n"
     ]
    }
   ],
   "source": [
    "# In Python, the two objects Decimal('1.200') and Decimal('1.2') are not exactly the same object, but they represent the same \n",
    "# decimal value. Here's a breakdown:\n",
    "\n",
    "# a) Different Object Instances: These are two distinct Decimal objects created with different string representations. \n",
    "#     They reside in separate memory locations.\n",
    "# b) Same Underlying Value: Both objects represent the exact same decimal value, which is 1.2. The trailing zeros in '1.200'\n",
    "#     don't affect the actual numeric value stored by the Decimal class.\n",
    "# c) Internal Representation: Decimal objects internally store numbers using a fixed-point representation with a specific \n",
    "#     precision. The trailing zeros in '1.200' might not be preserved in this internal representation, as they don't change\n",
    "#     the actual value.\n",
    "    \n",
    "# example:\n",
    "from decimal import Decimal\n",
    "\n",
    "# Creating Decimal objects\n",
    "decimal1 = Decimal('1.200')\n",
    "decimal2 = Decimal('1.2')\n",
    "\n",
    "# Check if they are the same object\n",
    "print(decimal1 is decimal2)  \n",
    "\n",
    "# Check if they are equal in value\n",
    "print(decimal1 == decimal2)  "
   ]
  },
  {
   "cell_type": "markdown",
   "id": "54bae6f6",
   "metadata": {},
   "source": [
    "# 3."
   ]
  },
  {
   "cell_type": "code",
   "execution_count": 3,
   "id": "47fa8b2b",
   "metadata": {},
   "outputs": [
    {
     "name": "stdout",
     "output_type": "stream",
     "text": [
      "True\n"
     ]
    }
   ],
   "source": [
    "# Here's what happens when you check the equality of Decimal('1.200') and Decimal('1.2'):\n",
    "\n",
    "# a) Object Identity: When you use the is operator, you check if both objects refer to the same object in memory. In this case,\n",
    "#     dec1 is dec2 returns False, indicating that these are two distinct Decimal objects created with different string \n",
    "#     representations.\n",
    "\n",
    "# Value Equality: When you use the == operator, you check if both objects have the same value. In this case, dec1 == dec2 \n",
    "#     returns True, indicating that both objects represent the same decimal value (1.2). The trailing zeros in '1.200' don't \n",
    "#     affect the actual numeric value stored by the Decimal class.\n",
    "    \n",
    "# example:\n",
    "from decimal import Decimal\n",
    "\n",
    "decimal1 = Decimal('1.200')\n",
    "decimal2 = Decimal('1.2')\n",
    "\n",
    "# Check for equality\n",
    "print(decimal1 == decimal2)  # Output: True"
   ]
  },
  {
   "cell_type": "markdown",
   "id": "bfb46e2d",
   "metadata": {},
   "source": [
    "# 4."
   ]
  },
  {
   "cell_type": "code",
   "execution_count": 4,
   "id": "12dfc74c",
   "metadata": {},
   "outputs": [
    {
     "name": "stdout",
     "output_type": "stream",
     "text": [
      "1.1999999999999999555910790149937383830547332763671875\n",
      "1.200\n"
     ]
    }
   ],
   "source": [
    "# There are two main reasons why it's preferable to start a Decimal object with a string rather than a floating-point value:\n",
    "\n",
    "# a) Preserving Precision:\n",
    "\n",
    "# 1. Floating-point numbers use binary floating-point representation, which can lead to rounding errors and loss of precision,\n",
    "#     especially for decimal values.\n",
    "# 2. When you convert a decimal number to a float and then create a Decimal from that float, you risk introducing these errors.\n",
    "#     The float representation might not be able to capture the exact decimal value.\n",
    "    \n",
    "# example:\n",
    "from decimal import Decimal\n",
    "number_as_float = 1.200  # This might internally be represented as 1.1999999999999998 due to binary representation\n",
    "decimal_from_float = Decimal(number_as_float)\n",
    "print(decimal_from_float) \n",
    "\n",
    "decimal_from_string = Decimal('1.200')\n",
    "print(decimal_from_string)  "
   ]
  },
  {
   "cell_type": "code",
   "execution_count": 5,
   "id": "5e9a56f5",
   "metadata": {},
   "outputs": [
    {
     "name": "stdout",
     "output_type": "stream",
     "text": [
      "1.200\n"
     ]
    }
   ],
   "source": [
    "# b) Clarity and Explicitness:\n",
    "\n",
    "# 1. Using a string constructor makes your code more explicit about the intended decimal value. It avoids any potential \n",
    "# ambiguity about whether a value originated as a float or a true decimal.\n",
    "\n",
    "# example:\n",
    "from decimal import Decimal\n",
    "# Less clear: source unclear (float or decimal?)\n",
    "value = 1.200  # Might be a float or a Decimal\n",
    "\n",
    "# More clear: explicit about using a decimal value\n",
    "value = Decimal('1.200')\n",
    "print(value)"
   ]
  },
  {
   "cell_type": "markdown",
   "id": "1f9440b3",
   "metadata": {},
   "source": [
    "# 5."
   ]
  },
  {
   "cell_type": "code",
   "execution_count": 6,
   "id": "de5f357d",
   "metadata": {},
   "outputs": [
    {
     "name": "stdout",
     "output_type": "stream",
     "text": [
      "5.5\n",
      "7.5\n"
     ]
    }
   ],
   "source": [
    "# Combining Decimal objects with integers in Python is very straightforward. In fact, integers are automatically converted\n",
    "# to Decimals when used in arithmetic operations with Decimals. This simplifies calculations and ensures that the result \n",
    "# maintains the precision of the Decimal object.\n",
    "\n",
    "# example:\n",
    "from decimal import Decimal\n",
    "\n",
    "decimal_value = Decimal('2.5')\n",
    "integer_value = 3\n",
    "\n",
    "# Direct addition works seamlessly, resulting in a Decimal\n",
    "combined_decimal = decimal_value + integer_value\n",
    "print(combined_decimal)  # Output: 5.5 (Decimal)\n",
    "\n",
    "# Multiplication also converts the integer to a Decimal before operating\n",
    "combined_decimal = decimal_value * integer_value\n",
    "print(combined_decimal)  # Output: 7.5 (Decimal)"
   ]
  },
  {
   "cell_type": "markdown",
   "id": "119a8db7",
   "metadata": {},
   "source": [
    "# 6."
   ]
  },
  {
   "cell_type": "code",
   "execution_count": 7,
   "id": "9ad11419",
   "metadata": {},
   "outputs": [],
   "source": [
    "# No, combining Decimal objects and floating-point values directly in Python is not recommended and can lead to unexpected \n",
    "# results due to the inherent differences in how they represent numbers. \n",
    "\n",
    "# Here's why:\n",
    "\n",
    "# a) Precision Discrepancy: Decimal objects use fixed-point representation with a specific precision, while floating-point values\n",
    "#     use binary floating-point representation with limited precision. Converting a Decimal to a float can introduce rounding\n",
    "#     errors and loss of precision.\n",
    "\n",
    "# b) Type Mismatch: Python treats Decimal and float as distinct types. Mixing them in arithmetic operations might result in \n",
    "#     a TypeError, or Python might implicitly convert one to the other, potentially causing precision loss."
   ]
  },
  {
   "cell_type": "code",
   "execution_count": 8,
   "id": "c037d17d",
   "metadata": {},
   "outputs": [
    {
     "ename": "TypeError",
     "evalue": "unsupported operand type(s) for +: 'decimal.Decimal' and 'float'",
     "output_type": "error",
     "traceback": [
      "\u001b[1;31m---------------------------------------------------------------------------\u001b[0m",
      "\u001b[1;31mTypeError\u001b[0m                                 Traceback (most recent call last)",
      "Cell \u001b[1;32mIn[8], line 7\u001b[0m\n\u001b[0;32m      5\u001b[0m decimal_value \u001b[38;5;241m=\u001b[39m Decimal(\u001b[38;5;124m'\u001b[39m\u001b[38;5;124m2.5\u001b[39m\u001b[38;5;124m'\u001b[39m)\n\u001b[0;32m      6\u001b[0m float_value \u001b[38;5;241m=\u001b[39m \u001b[38;5;241m3.14\u001b[39m  \u001b[38;5;66;03m# Float value\u001b[39;00m\n\u001b[1;32m----> 7\u001b[0m combined_value \u001b[38;5;241m=\u001b[39m decimal_value \u001b[38;5;241m+\u001b[39m float_value\n",
      "\u001b[1;31mTypeError\u001b[0m: unsupported operand type(s) for +: 'decimal.Decimal' and 'float'"
     ]
    }
   ],
   "source": [
    "# Here's what can happen if you try to combine them directly:\n",
    "\n",
    "# 1. TypeError:\n",
    "from decimal import Decimal\n",
    "decimal_value = Decimal('2.5')\n",
    "float_value = 3.14  # Float value\n",
    "combined_value = decimal_value + float_value  # This might raise a TypeError"
   ]
  },
  {
   "cell_type": "code",
   "execution_count": 9,
   "id": "977bdf7c",
   "metadata": {},
   "outputs": [
    {
     "name": "stdout",
     "output_type": "stream",
     "text": [
      "7.850\n"
     ]
    }
   ],
   "source": [
    "# 2. Implicit Conversion and Precision Loss:\n",
    "from decimal import Decimal\n",
    "# Python might implicitly convert Decimal to float, losing precision\n",
    "combined_value = decimal_value * Decimal(str(float_value))\n",
    "print(combined_value)  "
   ]
  },
  {
   "cell_type": "markdown",
   "id": "831c0480",
   "metadata": {},
   "source": [
    "# 7."
   ]
  },
  {
   "cell_type": "code",
   "execution_count": 10,
   "id": "d09fc290",
   "metadata": {},
   "outputs": [
    {
     "name": "stdout",
     "output_type": "stream",
     "text": [
      "4/21\n"
     ]
    }
   ],
   "source": [
    "# The Fraction class from the fractions module in Python allows us to represent rational numbers with absolute precision. \n",
    "\n",
    "# example:\n",
    "from fractions import Fraction\n",
    "\n",
    "# Create Fraction objects\n",
    "fraction1 = Fraction(1, 3)  # 1/3\n",
    "fraction2 = Fraction(4, 7)  # 4/7\n",
    "\n",
    "# Perform arithmetic operations with Fractions\n",
    "result = fraction1 * fraction2  # Multiply fractions\n",
    "\n",
    "print(result)  # Output: 4/21"
   ]
  },
  {
   "cell_type": "markdown",
   "id": "352ccd9f",
   "metadata": {},
   "source": [
    "# 8."
   ]
  },
  {
   "cell_type": "code",
   "execution_count": 11,
   "id": "1254ba15",
   "metadata": {},
   "outputs": [],
   "source": [
    "# A good example of a quantity that can be accurately expressed by both Decimal and Fraction classes, but not by a \n",
    "# floating-point value, is:\n",
    "\n",
    "# Repeating decimal representing a simple fraction: Consider the ratio of 1 dollar to 3 quarters.\n",
    "\n",
    "# In this case:\n",
    "\n",
    "# 1. Fraction: Fraction(1, 3) perfectly captures the exact ratio.\n",
    "# 2. Decimal: Decimal('0.3333333333...') with high enough precision can represent the value accurately.\n",
    "\n",
    "# However, a floating-point value cannot represent this ratio precisely. Here's why:\n",
    "# a) Floating-point limitation: Floating-point numbers use binary representation for numbers with decimals. Not all decimal \n",
    "#     fractions have an exact binary equivalent. The number 1/3, for instance, cannot be precisely represented in binary form.\n",
    "\n",
    "# b) Limited precision: Even with a high number of decimal places, a floating-point representation of 1/3 would be a close \n",
    "#     approximation (e.g., 0.33333334), but not the exact value."
   ]
  },
  {
   "cell_type": "markdown",
   "id": "fe318dbb",
   "metadata": {},
   "source": [
    "# 9."
   ]
  },
  {
   "cell_type": "code",
   "execution_count": 13,
   "id": "578b4485",
   "metadata": {},
   "outputs": [
    {
     "name": "stdout",
     "output_type": "stream",
     "text": [
      "False\n",
      "True\n"
     ]
    }
   ],
   "source": [
    "# No, the internal state of the two objects Fraction(1, 2) and Fraction(1, 2) is not necessarily the same. Here's why:\n",
    "\n",
    "# a) Python's Caching : In Python, for small integers like 1 and 2, the Fraction class might internally cache these \n",
    "#     commonly used fractions. This means both Fraction(1, 2) and another Fraction(1, 2) might refer to the same underlying\n",
    "#     object in memory to improve efficiency.\n",
    "\n",
    "# b) Object Identity vs. Value Equality : However, these objects don't have to be the same object. Python distinguishes\n",
    "#     between object identity (is) and value equality (==).\n",
    "\n",
    "# 1. is checks if two objects refer to the same memory location. Even if caching is used, there's no guarantee that a new \n",
    "#     Fraction(1, 2) object won't be created.\n",
    "# 2. == checks if two objects have the same value. In this case, both objects will have the same value (1/2).\n",
    "\n",
    "# example:\n",
    "from fractions import Fraction\n",
    "fraction1 = Fraction(1, 2)\n",
    "fraction2 = Fraction(1, 2)\n",
    "\n",
    "print(fraction1 is fraction2)  # Might be True or False (depending on caching)\n",
    "print(fraction1 == fraction2)  # Always True (same value)"
   ]
  },
  {
   "cell_type": "markdown",
   "id": "bc9b38fa",
   "metadata": {},
   "source": [
    "# 10."
   ]
  },
  {
   "cell_type": "code",
   "execution_count": 14,
   "id": "d48af182",
   "metadata": {},
   "outputs": [],
   "source": [
    "# In Python, the Fraction class and the integer type (int) neither inherit from each other nor does one strictly contain \n",
    "# the other. They are related concepts but represent different kinds of numbers.\n",
    "\n",
    "# Here's a breakdown of the relationship:\n",
    "\n",
    "# a) Fraction: Represents rational numbers as a ratio of two integers (numerator and denominator). It can express both\n",
    "#     whole numbers (integers) and fractional parts.\n",
    "\n",
    "# b) Integer: Represents whole numbers without fractional parts. It's a built-in numeric type in Python.\n",
    "\n",
    "# Connection:\n",
    "\n",
    "# 1. Integers as Special Cases of Fractions: Every integer can be represented as a Fraction with a denominator of 1. \n",
    "#     For example, 5 is equivalent to Fraction(5, 1).\n",
    "\n",
    "# 2. Conversion: You can convert between them using the constructor methods:\n",
    "\n",
    "#     i) Fraction(n) creates a Fraction with numerator n and denominator 1 (representing an integer).\n",
    "#     ii) int(fraction) attempts to convert a Fraction to an integer if the denominator is 1 (otherwise, it raises a ValueError)."
   ]
  },
  {
   "cell_type": "code",
   "execution_count": null,
   "id": "c2a191d2",
   "metadata": {},
   "outputs": [],
   "source": []
  }
 ],
 "metadata": {
  "kernelspec": {
   "display_name": "Python 3 (ipykernel)",
   "language": "python",
   "name": "python3"
  },
  "language_info": {
   "codemirror_mode": {
    "name": "ipython",
    "version": 3
   },
   "file_extension": ".py",
   "mimetype": "text/x-python",
   "name": "python",
   "nbconvert_exporter": "python",
   "pygments_lexer": "ipython3",
   "version": "3.11.5"
  }
 },
 "nbformat": 4,
 "nbformat_minor": 5
}
